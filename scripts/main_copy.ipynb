{
 "cells": [
  {
   "cell_type": "code",
   "execution_count": 1,
   "metadata": {},
   "outputs": [],
   "source": [
    "import os\n",
    "import numpy as np\n",
    "from sklearn.metrics import classification_report, confusion_matrix, ConfusionMatrixDisplay\n",
    "from sklearn.model_selection import train_test_split\n",
    "import matplotlib.pyplot as plt\n",
    "from tensorflow.keras.preprocessing.image import ImageDataGenerator, load_img, img_to_array\n",
    "from tensorflow.keras import layers, models\n",
    "from tensorflow.keras.applications import ResNet50\n",
    "from tensorflow.keras.callbacks import EarlyStopping\n",
    "from tensorflow.keras.regularizers import l2\n",
    "from keras.utils import to_categorical\n",
    "from PIL import Image, UnidentifiedImageError\n",
    "from keras.models import load_model\n",
    "import seaborn as sns\n",
    "from tensorflow.keras import backend as K"
   ]
  },
  {
   "cell_type": "code",
   "execution_count": 2,
   "metadata": {},
   "outputs": [],
   "source": [
    "import shutil\n",
    "from sklearn.model_selection import train_test_split\n",
    "\n",
    "# Paths to the directories\n",
    "control_axial_dir = 'Control-Axial'\n",
    "control_sagittal_dir = 'Control-Sagittal'\n",
    "ms_axial_dir = 'MS-Axial'\n",
    "ms_sagittal_dir = 'MS-Sagittal'\n",
    "\n",
    "# Function to split dataset and copy files\n",
    "def split_and_copy(file_list, output_dir, train_ratio=0.7, val_ratio=0.15):\n",
    "    # Split into train and test\n",
    "    train_files, test_files = train_test_split(file_list, test_size=(1 - train_ratio))\n",
    "    # Further split train into train and validation\n",
    "    train_files, val_files = train_test_split(train_files, test_size=val_ratio/(train_ratio + val_ratio))\n",
    "    \n",
    "    # Copy files to respective directories\n",
    "    for file_set, split in [(train_files, 'train'), (val_files, 'val'), (test_files, 'test')]:\n",
    "        for file_path in file_set:\n",
    "            class_name = os.path.basename(os.path.dirname(file_path))\n",
    "            # Create directories if they don't exist\n",
    "            output_path = os.path.join(output_dir, split, class_name)\n",
    "            os.makedirs(output_path, exist_ok=True)\n",
    "            # Copy files\n",
    "            shutil.copy(file_path, output_path)\n",
    "\n",
    "# Get all file paths\n",
    "control_axial_files = [os.path.join(control_axial_dir, f) for f in os.listdir(control_axial_dir) if f.endswith('.png')]\n",
    "control_sagittal_files = [os.path.join(control_sagittal_dir, f) for f in os.listdir(control_sagittal_dir) if f.endswith('.png')]\n",
    "ms_axial_files = [os.path.join(ms_axial_dir, f) for f in os.listdir(ms_axial_dir) if f.endswith('.png')]\n",
    "ms_sagittal_files = [os.path.join(ms_sagittal_dir, f) for f in os.listdir(ms_sagittal_dir) if f.endswith('.png')]\n",
    "\n",
    "# Output directory where train, val, and test directories will be created\n",
    "output_dir = 'Data'\n",
    "\n",
    "# Split and copy files\n",
    "split_and_copy(control_axial_files + control_sagittal_files, output_dir)\n",
    "split_and_copy(ms_axial_files + ms_sagittal_files, output_dir)"
   ]
  },
  {
   "cell_type": "code",
   "execution_count": 3,
   "metadata": {},
   "outputs": [
    {
     "name": "stdout",
     "output_type": "stream",
     "text": [
      "Found 3360 images belonging to 4 classes.\n",
      "Found 1426 images belonging to 4 classes.\n",
      "Found 2609 images belonging to 4 classes.\n"
     ]
    }
   ],
   "source": [
    "# Step 1: ImageDataGenerator for preprocessing and augmentation with train-validation split\n",
    "datagen = ImageDataGenerator(\n",
    "    rescale=1.0 / 255,  # Normalize pixel values\n",
    "    rotation_range=40,\n",
    "    width_shift_range=0.3,\n",
    "    height_shift_range=0.3,\n",
    "    shear_range=0.3,\n",
    "    zoom_range=0.3,\n",
    "    brightness_range=[0.8, 1.2],\n",
    "    horizontal_flip=True\n",
    ")\n",
    "\n",
    "# Load and preprocess the training data\n",
    "train_generator = datagen.flow_from_directory(\n",
    "    r'Data/train',  # Folder containing the training data\n",
    "    target_size=(224, 224),  # Resize images to (224x224)\n",
    "    batch_size= 25,\n",
    "    class_mode='categorical',  # Categorical-class classification\n",
    ")\n",
    "\n",
    "# Load and preprocess the validation data\n",
    "validation_generator = datagen.flow_from_directory(\n",
    "   r'Data/val',  # Using the same folder for validation\n",
    "    target_size=(224, 224), \n",
    "    batch_size= 25,\n",
    "    class_mode='categorical',\n",
    ")\n",
    "# Load testing data\n",
    "test_generator = datagen.flow_from_directory(\n",
    "    r'Data/test',\n",
    "    target_size=(224, 224),\n",
    "    batch_size= 25,\n",
    "    class_mode='categorical'\n",
    ")"
   ]
  },
  {
   "cell_type": "code",
   "execution_count": 4,
   "metadata": {},
   "outputs": [
    {
     "name": "stdout",
     "output_type": "stream",
     "text": [
      "Downloading data from https://storage.googleapis.com/tensorflow/keras-applications/mobilenet/mobilenet_1_0_224_tf_no_top.h5\n",
      "\u001b[1m17225924/17225924\u001b[0m \u001b[32m━━━━━━━━━━━━━━━━━━━━\u001b[0m\u001b[37m\u001b[0m \u001b[1m25s\u001b[0m 1us/step\n"
     ]
    },
    {
     "data": {
      "text/html": [
       "<pre style=\"white-space:pre;overflow-x:auto;line-height:normal;font-family:Menlo,'DejaVu Sans Mono',consolas,'Courier New',monospace\"><span style=\"font-weight: bold\">Model: \"sequential\"</span>\n",
       "</pre>\n"
      ],
      "text/plain": [
       "\u001b[1mModel: \"sequential\"\u001b[0m\n"
      ]
     },
     "metadata": {},
     "output_type": "display_data"
    },
    {
     "data": {
      "text/html": [
       "<pre style=\"white-space:pre;overflow-x:auto;line-height:normal;font-family:Menlo,'DejaVu Sans Mono',consolas,'Courier New',monospace\">┏━━━━━━━━━━━━━━━━━━━━━━━━━━━━━━━━━┳━━━━━━━━━━━━━━━━━━━━━━━━┳━━━━━━━━━━━━━━━┓\n",
       "┃<span style=\"font-weight: bold\"> Layer (type)                    </span>┃<span style=\"font-weight: bold\"> Output Shape           </span>┃<span style=\"font-weight: bold\">       Param # </span>┃\n",
       "┡━━━━━━━━━━━━━━━━━━━━━━━━━━━━━━━━━╇━━━━━━━━━━━━━━━━━━━━━━━━╇━━━━━━━━━━━━━━━┩\n",
       "│ mobilenet_1.00_224 (<span style=\"color: #0087ff; text-decoration-color: #0087ff\">Functional</span>) │ (<span style=\"color: #00d7ff; text-decoration-color: #00d7ff\">None</span>, <span style=\"color: #00af00; text-decoration-color: #00af00\">7</span>, <span style=\"color: #00af00; text-decoration-color: #00af00\">7</span>, <span style=\"color: #00af00; text-decoration-color: #00af00\">1024</span>)     │     <span style=\"color: #00af00; text-decoration-color: #00af00\">3,228,864</span> │\n",
       "├─────────────────────────────────┼────────────────────────┼───────────────┤\n",
       "│ global_average_pooling2d        │ (<span style=\"color: #00d7ff; text-decoration-color: #00d7ff\">None</span>, <span style=\"color: #00af00; text-decoration-color: #00af00\">1024</span>)           │             <span style=\"color: #00af00; text-decoration-color: #00af00\">0</span> │\n",
       "│ (<span style=\"color: #0087ff; text-decoration-color: #0087ff\">GlobalAveragePooling2D</span>)        │                        │               │\n",
       "├─────────────────────────────────┼────────────────────────┼───────────────┤\n",
       "│ dense (<span style=\"color: #0087ff; text-decoration-color: #0087ff\">Dense</span>)                   │ (<span style=\"color: #00d7ff; text-decoration-color: #00d7ff\">None</span>, <span style=\"color: #00af00; text-decoration-color: #00af00\">128</span>)            │       <span style=\"color: #00af00; text-decoration-color: #00af00\">131,200</span> │\n",
       "├─────────────────────────────────┼────────────────────────┼───────────────┤\n",
       "│ batch_normalization             │ (<span style=\"color: #00d7ff; text-decoration-color: #00d7ff\">None</span>, <span style=\"color: #00af00; text-decoration-color: #00af00\">128</span>)            │           <span style=\"color: #00af00; text-decoration-color: #00af00\">512</span> │\n",
       "│ (<span style=\"color: #0087ff; text-decoration-color: #0087ff\">BatchNormalization</span>)            │                        │               │\n",
       "├─────────────────────────────────┼────────────────────────┼───────────────┤\n",
       "│ dropout (<span style=\"color: #0087ff; text-decoration-color: #0087ff\">Dropout</span>)               │ (<span style=\"color: #00d7ff; text-decoration-color: #00d7ff\">None</span>, <span style=\"color: #00af00; text-decoration-color: #00af00\">128</span>)            │             <span style=\"color: #00af00; text-decoration-color: #00af00\">0</span> │\n",
       "├─────────────────────────────────┼────────────────────────┼───────────────┤\n",
       "│ dense_1 (<span style=\"color: #0087ff; text-decoration-color: #0087ff\">Dense</span>)                 │ (<span style=\"color: #00d7ff; text-decoration-color: #00d7ff\">None</span>, <span style=\"color: #00af00; text-decoration-color: #00af00\">4</span>)              │           <span style=\"color: #00af00; text-decoration-color: #00af00\">516</span> │\n",
       "└─────────────────────────────────┴────────────────────────┴───────────────┘\n",
       "</pre>\n"
      ],
      "text/plain": [
       "┏━━━━━━━━━━━━━━━━━━━━━━━━━━━━━━━━━┳━━━━━━━━━━━━━━━━━━━━━━━━┳━━━━━━━━━━━━━━━┓\n",
       "┃\u001b[1m \u001b[0m\u001b[1mLayer (type)                   \u001b[0m\u001b[1m \u001b[0m┃\u001b[1m \u001b[0m\u001b[1mOutput Shape          \u001b[0m\u001b[1m \u001b[0m┃\u001b[1m \u001b[0m\u001b[1m      Param #\u001b[0m\u001b[1m \u001b[0m┃\n",
       "┡━━━━━━━━━━━━━━━━━━━━━━━━━━━━━━━━━╇━━━━━━━━━━━━━━━━━━━━━━━━╇━━━━━━━━━━━━━━━┩\n",
       "│ mobilenet_1.00_224 (\u001b[38;5;33mFunctional\u001b[0m) │ (\u001b[38;5;45mNone\u001b[0m, \u001b[38;5;34m7\u001b[0m, \u001b[38;5;34m7\u001b[0m, \u001b[38;5;34m1024\u001b[0m)     │     \u001b[38;5;34m3,228,864\u001b[0m │\n",
       "├─────────────────────────────────┼────────────────────────┼───────────────┤\n",
       "│ global_average_pooling2d        │ (\u001b[38;5;45mNone\u001b[0m, \u001b[38;5;34m1024\u001b[0m)           │             \u001b[38;5;34m0\u001b[0m │\n",
       "│ (\u001b[38;5;33mGlobalAveragePooling2D\u001b[0m)        │                        │               │\n",
       "├─────────────────────────────────┼────────────────────────┼───────────────┤\n",
       "│ dense (\u001b[38;5;33mDense\u001b[0m)                   │ (\u001b[38;5;45mNone\u001b[0m, \u001b[38;5;34m128\u001b[0m)            │       \u001b[38;5;34m131,200\u001b[0m │\n",
       "├─────────────────────────────────┼────────────────────────┼───────────────┤\n",
       "│ batch_normalization             │ (\u001b[38;5;45mNone\u001b[0m, \u001b[38;5;34m128\u001b[0m)            │           \u001b[38;5;34m512\u001b[0m │\n",
       "│ (\u001b[38;5;33mBatchNormalization\u001b[0m)            │                        │               │\n",
       "├─────────────────────────────────┼────────────────────────┼───────────────┤\n",
       "│ dropout (\u001b[38;5;33mDropout\u001b[0m)               │ (\u001b[38;5;45mNone\u001b[0m, \u001b[38;5;34m128\u001b[0m)            │             \u001b[38;5;34m0\u001b[0m │\n",
       "├─────────────────────────────────┼────────────────────────┼───────────────┤\n",
       "│ dense_1 (\u001b[38;5;33mDense\u001b[0m)                 │ (\u001b[38;5;45mNone\u001b[0m, \u001b[38;5;34m4\u001b[0m)              │           \u001b[38;5;34m516\u001b[0m │\n",
       "└─────────────────────────────────┴────────────────────────┴───────────────┘\n"
      ]
     },
     "metadata": {},
     "output_type": "display_data"
    },
    {
     "data": {
      "text/html": [
       "<pre style=\"white-space:pre;overflow-x:auto;line-height:normal;font-family:Menlo,'DejaVu Sans Mono',consolas,'Courier New',monospace\"><span style=\"font-weight: bold\"> Total params: </span><span style=\"color: #00af00; text-decoration-color: #00af00\">3,361,092</span> (12.82 MB)\n",
       "</pre>\n"
      ],
      "text/plain": [
       "\u001b[1m Total params: \u001b[0m\u001b[38;5;34m3,361,092\u001b[0m (12.82 MB)\n"
      ]
     },
     "metadata": {},
     "output_type": "display_data"
    },
    {
     "data": {
      "text/html": [
       "<pre style=\"white-space:pre;overflow-x:auto;line-height:normal;font-family:Menlo,'DejaVu Sans Mono',consolas,'Courier New',monospace\"><span style=\"font-weight: bold\"> Trainable params: </span><span style=\"color: #00af00; text-decoration-color: #00af00\">131,972</span> (515.52 KB)\n",
       "</pre>\n"
      ],
      "text/plain": [
       "\u001b[1m Trainable params: \u001b[0m\u001b[38;5;34m131,972\u001b[0m (515.52 KB)\n"
      ]
     },
     "metadata": {},
     "output_type": "display_data"
    },
    {
     "data": {
      "text/html": [
       "<pre style=\"white-space:pre;overflow-x:auto;line-height:normal;font-family:Menlo,'DejaVu Sans Mono',consolas,'Courier New',monospace\"><span style=\"font-weight: bold\"> Non-trainable params: </span><span style=\"color: #00af00; text-decoration-color: #00af00\">3,229,120</span> (12.32 MB)\n",
       "</pre>\n"
      ],
      "text/plain": [
       "\u001b[1m Non-trainable params: \u001b[0m\u001b[38;5;34m3,229,120\u001b[0m (12.32 MB)\n"
      ]
     },
     "metadata": {},
     "output_type": "display_data"
    }
   ],
   "source": [
    "from tensorflow.keras.applications import MobileNet\n",
    "from tensorflow.keras import layers, models\n",
    "from tensorflow.keras.regularizers import l2\n",
    "\n",
    "# Step 2: Model Architecture - Using MobileNet\n",
    "base_model = MobileNet(weights='imagenet', include_top=False, input_shape=(224, 224, 3))\n",
    "\n",
    "# Freeze the layers of the base model (MobileNet)\n",
    "for layer in base_model.layers:\n",
    "    layer.trainable = False  # This freezes the layers so they won't be updated during training\n",
    "\n",
    "# Step 3: Define the Full Model Architecture\n",
    "model = models.Sequential([\n",
    "    base_model,                  # Pre-trained MobileNet as the base\n",
    "    layers.GlobalAveragePooling2D(),  # Global Average Pooling\n",
    "    layers.Dense(128, activation='relu', kernel_regularizer=l2(0.001)),  # Dense layer with L2 regularization\n",
    "    layers.BatchNormalization(),  # Batch Normalization layer\n",
    "    layers.Dropout(0.5),          # Dropout to prevent overfitting\n",
    "    layers.Dense(4, activation='softmax')  # Final classification layer with 4 outputs for categorical classification\n",
    "])\n",
    "\n",
    "# Compile the model\n",
    "model.compile(optimizer='adam', loss='categorical_crossentropy', metrics=['accuracy'])\n",
    "\n",
    "# Print the model summary to confirm the architecture\n",
    "model.summary()"
   ]
  },
  {
   "cell_type": "code",
   "execution_count": 5,
   "metadata": {},
   "outputs": [
    {
     "name": "stdout",
     "output_type": "stream",
     "text": [
      "Raw prediction (before sigmoid thresholding): [[0.13158818 0.19842973 0.2680294  0.40195277]]\n",
      "Predicted Probability: 0.1316\n",
      "Predicted Class: MS\n"
     ]
    },
    {
     "data": {
      "image/png": "[encoded data removed]",
      "text/plain": [
       "<Figure size 640x480 with 1 Axes>"
      ]
     },
     "metadata": {},
     "output_type": "display_data"
    },
    {
     "data": {
      "image/png": "[encoded data removed]",
      "text/plain": [
       "<Figure size 640x480 with 1 Axes>"
      ]
     },
     "metadata": {},
     "output_type": "display_data"
    }
   ],
   "source": [
    "import matplotlib.pyplot as plt\n",
    "import numpy as np\n",
    "\n",
    "# Step 3: Let's look at the model's prediction on one batch of data from the train_generator before training it\n",
    "sample_batch, _ = next(train_generator)  # Get one batch of data (images and labels)\n",
    "pred = model(sample_batch[0:1])  # Predict for the first image in the batch\n",
    "\n",
    "# Print the raw prediction (before sigmoid thresholding)\n",
    "print(f\"Raw prediction (before sigmoid thresholding): {pred.numpy()}\")\n",
    "\n",
    "# Since the output is a probability (between 0 and 1), let's visualize it\n",
    "predicted_prob = pred.numpy()[0][0]  # Extract the probability\n",
    "predicted_class = 'CONTROL' if predicted_prob >= 0.5 else 'MS'  # Threshold of 0.5\n",
    "\n",
    "print(f\"Predicted Probability: {predicted_prob:.4f}\")\n",
    "print(f\"Predicted Class: {predicted_class}\")\n",
    "\n",
    "# Plotting the predicted probability for better visualization\n",
    "plt.bar(['MS', 'CONTROL'], [1 - predicted_prob, predicted_prob])\n",
    "plt.xlabel('Classification')\n",
    "plt.ylabel('Probability')\n",
    "plt.title('Prediction before training')\n",
    "plt.show()\n",
    "\n",
    "# Optionally visualize the image\n",
    "plt.imshow(np.squeeze(sample_batch[0]))\n",
    "plt.title(f\"Image from train_generator - Predicted: {predicted_class}\")\n",
    "plt.show()"
   ]
  },
  {
   "cell_type": "code",
   "execution_count": 6,
   "metadata": {},
   "outputs": [
    {
     "name": "stdout",
     "output_type": "stream",
     "text": [
      "Training data shape: (25, 224, 224, 3)\n",
      "Training labels shape: (25, 4)\n",
      "Validation data shape: (25, 224, 224, 3)\n",
      "Validation labels shape: (25, 4)\n"
     ]
    }
   ],
   "source": [
    "# Check if train_generator has data\n",
    "batch_x, batch_y = next(train_generator)\n",
    "print(f\"Training data shape: {batch_x.shape}\")\n",
    "print(f\"Training labels shape: {batch_y.shape}\")\n",
    "\n",
    "# Check if validation_generator has data\n",
    "val_batch_x, val_batch_y = next(validation_generator)\n",
    "print(f\"Validation data shape: {val_batch_x.shape}\")\n",
    "print(f\"Validation labels shape: {val_batch_y.shape}\")"
   ]
  },
  {
   "cell_type": "code",
   "execution_count": 7,
   "metadata": {},
   "outputs": [],
   "source": [
    "import os\n",
    "from PIL import Image\n",
    "\n",
    "def check_images(directory):\n",
    "    for root, dirs, files in os.walk(directory):\n",
    "        for file in files:\n",
    "            try:\n",
    "                img = Image.open(os.path.join(root, file))\n",
    "                img.verify()  # Verify that the file can be opened as an image\n",
    "            except (IOError, SyntaxError) as e:\n",
    "                print(f'Bad file: {file}')  # This file might be corrupted\n",
    "                os.remove(os.path.join(root, file))  # Optionally remove the corrupted file\n",
    "\n",
    "# Check your train, validation, and test directories\n",
    "check_images('Data/train')\n",
    "check_images('Data/val')\n",
    "check_images('Data/test')\n"
   ]
  },
  {
   "cell_type": "code",
   "execution_count": 8,
   "metadata": {},
   "outputs": [
    {
     "name": "stdout",
     "output_type": "stream",
     "text": [
      "Found 3360 images belonging to 4 classes.\n",
      "Found 1426 images belonging to 4 classes.\n"
     ]
    },
    {
     "name": "stderr",
     "output_type": "stream",
     "text": [
      "c:\\7th Semester\\Project 1\\Multiple Sclerosis\\venv\\Lib\\site-packages\\keras\\src\\trainers\\data_adapters\\py_dataset_adapter.py:121: UserWarning: Your `PyDataset` class should call `super().__init__(**kwargs)` in its constructor. `**kwargs` can include `workers`, `use_multiprocessing`, `max_queue_size`. Do not pass these arguments to `fit()`, as they will be ignored.\n",
      "  self._warn_if_super_not_called()\n"
     ]
    },
    {
     "name": "stdout",
     "output_type": "stream",
     "text": [
      "Epoch 1/10\n",
      "\u001b[1m105/105\u001b[0m \u001b[32m━━━━━━━━━━━━━━━━━━━━\u001b[0m\u001b[37m\u001b[0m \u001b[1m173s\u001b[0m 2s/step - accuracy: 0.5612 - loss: 1.3433 - val_accuracy: 0.7412 - val_loss: 0.7629\n",
      "Epoch 2/10\n",
      "\u001b[1m105/105\u001b[0m \u001b[32m━━━━━━━━━━━━━━━━━━━━\u001b[0m\u001b[37m\u001b[0m \u001b[1m1734s\u001b[0m 17s/step - accuracy: 0.7191 - loss: 0.8359 - val_accuracy: 0.7034 - val_loss: 0.8054\n",
      "Epoch 3/10\n",
      "\u001b[1m105/105\u001b[0m \u001b[32m━━━━━━━━━━━━━━━━━━━━\u001b[0m\u001b[37m\u001b[0m \u001b[1m169s\u001b[0m 2s/step - accuracy: 0.7332 - loss: 0.7577 - val_accuracy: 0.8001 - val_loss: 0.6255\n",
      "Epoch 4/10\n",
      "\u001b[1m105/105\u001b[0m \u001b[32m━━━━━━━━━━━━━━━━━━━━\u001b[0m\u001b[37m\u001b[0m \u001b[1m163s\u001b[0m 2s/step - accuracy: 0.7597 - loss: 0.6984 - val_accuracy: 0.8022 - val_loss: 0.6061\n",
      "Epoch 5/10\n",
      "\u001b[1m105/105\u001b[0m \u001b[32m━━━━━━━━━━━━━━━━━━━━\u001b[0m\u001b[37m\u001b[0m \u001b[1m161s\u001b[0m 2s/step - accuracy: 0.7730 - loss: 0.6811 - val_accuracy: 0.8065 - val_loss: 0.5981\n",
      "Epoch 6/10\n",
      "\u001b[1m105/105\u001b[0m \u001b[32m━━━━━━━━━━━━━━━━━━━━\u001b[0m\u001b[37m\u001b[0m \u001b[1m155s\u001b[0m 1s/step - accuracy: 0.7812 - loss: 0.6231 - val_accuracy: 0.7980 - val_loss: 0.6125\n",
      "Epoch 7/10\n",
      "\u001b[1m105/105\u001b[0m \u001b[32m━━━━━━━━━━━━━━━━━━━━\u001b[0m\u001b[37m\u001b[0m \u001b[1m157s\u001b[0m 1s/step - accuracy: 0.7861 - loss: 0.6220 - val_accuracy: 0.7686 - val_loss: 0.6192\n",
      "Epoch 8/10\n",
      "\u001b[1m105/105\u001b[0m \u001b[32m━━━━━━━━━━━━━━━━━━━━\u001b[0m\u001b[37m\u001b[0m \u001b[1m150s\u001b[0m 1s/step - accuracy: 0.7805 - loss: 0.6144 - val_accuracy: 0.8184 - val_loss: 0.5432\n",
      "Epoch 9/10\n",
      "\u001b[1m105/105\u001b[0m \u001b[32m━━━━━━━━━━━━━━━━━━━━\u001b[0m\u001b[37m\u001b[0m \u001b[1m147s\u001b[0m 1s/step - accuracy: 0.7905 - loss: 0.5969 - val_accuracy: 0.8114 - val_loss: 0.5822\n",
      "Epoch 10/10\n",
      "\u001b[1m105/105\u001b[0m \u001b[32m━━━━━━━━━━━━━━━━━━━━\u001b[0m\u001b[37m\u001b[0m \u001b[1m147s\u001b[0m 1s/step - accuracy: 0.7834 - loss: 0.6060 - val_accuracy: 0.8296 - val_loss: 0.5184\n"
     ]
    }
   ],
   "source": [
    "from tensorflow.keras.preprocessing.image import ImageDataGenerator\n",
    "\n",
    "def load_images_with_error_handling(directory, target_size=(224, 224), batch_size=32):\n",
    "    try:\n",
    "        datagen = ImageDataGenerator(\n",
    "            rescale=1.0 / 255,\n",
    "            rotation_range=40,\n",
    "            width_shift_range=0.3,\n",
    "            height_shift_range=0.3,\n",
    "            shear_range=0.3,\n",
    "            zoom_range=0.3,\n",
    "            brightness_range=[0.8, 1.2],\n",
    "            horizontal_flip=True\n",
    "        )\n",
    "        generator = datagen.flow_from_directory(\n",
    "            directory,\n",
    "            target_size=target_size,\n",
    "            batch_size=batch_size,\n",
    "            class_mode='categorical',\n",
    "            shuffle=True\n",
    "        )\n",
    "        return generator\n",
    "    except Exception as e:\n",
    "        print(f\"An error occurred while loading images: {e}\")\n",
    "        return None\n",
    "\n",
    "# Apply this to train and validation generators\n",
    "train_generator = load_images_with_error_handling('Data/train')\n",
    "validation_generator = load_images_with_error_handling('Data/val')\n",
    "\n",
    "if train_generator is not None and validation_generator is not None:\n",
    "    history = model.fit(\n",
    "        train_generator,\n",
    "        validation_data=validation_generator,\n",
    "        epochs=10\n",
    "    )\n",
    "else:\n",
    "    print(\"Error in loading data.\")\n"
   ]
  },
  {
   "cell_type": "code",
   "execution_count": 9,
   "metadata": {},
   "outputs": [],
   "source": [
    "# Save the trained model with different filenames\n",
    "model.save('mobilenet_model.keras')                     # Saving with a reference to the architecture"
   ]
  },
  {
   "cell_type": "code",
   "execution_count": 10,
   "metadata": {},
   "outputs": [
    {
     "name": "stdout",
     "output_type": "stream",
     "text": [
      "Found 2609 images belonging to 4 classes.\n",
      "\u001b[1m82/82\u001b[0m \u001b[32m━━━━━━━━━━━━━━━━━━━━\u001b[0m\u001b[37m\u001b[0m \u001b[1m58s\u001b[0m 707ms/step - accuracy: 0.9103 - loss: 0.4056\n",
      "Test Accuracy: 84.59%\n"
     ]
    }
   ],
   "source": [
    "from tensorflow.keras.preprocessing.image import ImageDataGenerator\n",
    "\n",
    "def load_images_with_error_handling(directory, target_size=(224, 224), batch_size=32):\n",
    "    try:\n",
    "        datagen = ImageDataGenerator(\n",
    "            rescale=1.0 / 255\n",
    "        )\n",
    "        generator = datagen.flow_from_directory(\n",
    "            directory,\n",
    "            target_size=target_size,\n",
    "            batch_size=batch_size,\n",
    "            class_mode='categorical',\n",
    "            shuffle=False\n",
    "        )\n",
    "        return generator\n",
    "    except Exception as e:\n",
    "        print(f\"An error occurred while loading images: {e}\")\n",
    "        return None\n",
    "\n",
    "# Rebuild the test data generator\n",
    "test_generator = load_images_with_error_handling('Data/test')\n",
    "\n",
    "# If test_generator is built correctly, evaluate the model\n",
    "if test_generator is not None:\n",
    "    test_loss, test_acc = model.evaluate(test_generator)\n",
    "    print(f'Test Accuracy: {test_acc * 100:.2f}%')\n",
    "else:\n",
    "    print(\"Test data not loaded correctly.\")\n"
   ]
  }
 ],
 "metadata": {
  "kernelspec": {
   "display_name": "venv",
   "language": "python",
   "name": "python3"
  },
  "language_info": {
   "codemirror_mode": {
    "name": "ipython",
    "version": 3
   },
   "file_extension": ".py",
   "mimetype": "text/x-python",
   "name": "python",
   "nbconvert_exporter": "python",
   "pygments_lexer": "ipython3",
   "version": "3.11.3"
  }
 },
 "nbformat": 4,
 "nbformat_minor": 2
}
